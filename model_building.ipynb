{
 "cells": [
  {
   "cell_type": "code",
   "execution_count": null,
   "id": "6b6ee0c8-a83e-4859-bcd9-2d2fa92de0fc",
   "metadata": {},
   "outputs": [],
   "source": [
    "# import os\n",
    "# import pandas as pd\n",
    "\n",
    "# # Local cache directory and file path\n",
    "# cache_dir = '/home/sagemaker-user/data'\n",
    "# os.makedirs(cache_dir, exist_ok=True)\n",
    "# local_parquet_path = os.path.join(cache_dir, 'med_xgb_data.parquet')\n",
    "\n",
    "# # Your existing CSV S3 path\n",
    "# s3_csv_path = 's3://mlops-sandbox-bucket/med_xgb_data.csv'\n",
    "\n",
    "# # Parquet S3 path (same bucket/folder but different filename)\n",
    "# s3_parquet_path = 's3://mlops-sandbox-bucket/med_xgb_data.parquet'\n",
    "\n",
    "# if os.path.exists(local_parquet_path):\n",
    "#     # Load from local cache if exists\n",
    "#     df = pd.read_parquet(local_parquet_path)\n",
    "#     print(\"Loaded data from local parquet cache\")\n",
    "# else:\n",
    "#     # First time loading: read CSV from S3 (slow)\n",
    "#     df = pd.read_csv(s3_csv_path)\n",
    "#     print(\"Loaded data from CSV on S3\")\n",
    "\n",
    "#     # Save parquet locally for future quick loads\n",
    "#     df.to_parquet(local_parquet_path)\n",
    "#     print(f\"Saved parquet locally at {local_parquet_path}\")\n",
    "\n",
    "#     # Also save parquet back to S3 for persistence/sharing\n",
    "#     df.to_parquet(s3_parquet_path, index=False)\n",
    "#     print(f\"Saved parquet to S3 at {s3_parquet_path}\")\n"
   ]
  },
  {
   "cell_type": "code",
   "execution_count": null,
   "id": "dd74c2ab-a7f3-4234-bf02-88dfea7c8bf6",
   "metadata": {},
   "outputs": [],
   "source": [
    "# Use the Conversation API to send a text message to Amazon Nova.\n",
    "\n",
    "import boto3\n",
    "from botocore.exceptions import ClientError\n",
    "\n",
    "# Create a Bedrock Runtime client in the AWS Region you want to use.\n",
    "client = boto3.client(\"bedrock-runtime\", region_name=\"us-east-2\")\n",
    "\n",
    "# Set the model ID, e.g., Amazon Nova Lite.\n",
    "model_id = \"amazon.nova-lite-v1:0\"\n",
    "\n",
    "# Start a conversation with the user message.\n",
    "user_message = \"Describe the purpose of a 'hello world' program in one line.\"\n",
    "conversation = [\n",
    "    {\n",
    "        \"role\": \"user\",\n",
    "        \"content\": [{\"text\": user_message}],\n",
    "    }\n",
    "]\n",
    "\n",
    "try:\n",
    "    # Send the message to the model, using a basic inference configuration.\n",
    "    response = client.converse(\n",
    "        modelId=model_id,\n",
    "        messages=conversation,\n",
    "        inferenceConfig={\"maxTokens\": 512, \"temperature\": 0.5, \"topP\": 0.9},\n",
    "    )\n",
    "\n",
    "    # Extract and print the response text.\n",
    "    response_text = response[\"output\"][\"message\"][\"content\"][0][\"text\"]\n",
    "    print(response_text)\n",
    "\n",
    "except (ClientError, Exception) as e:\n",
    "    print(f\"ERROR: Can't invoke '{model_id}'. Reason: {e}\")\n",
    "    exit(1)\n",
    "\n",
    "\n"
   ]
  },
  {
   "cell_type": "code",
   "execution_count": 1,
   "id": "b75d336e-91ee-471b-b19a-244d6b278c18",
   "metadata": {
    "execution": {
     "iopub.execute_input": "2025-06-11T21:28:02.753738Z",
     "iopub.status.busy": "2025-06-11T21:28:02.753307Z",
     "iopub.status.idle": "2025-06-11T21:28:03.271468Z",
     "shell.execute_reply": "2025-06-11T21:28:03.270623Z",
     "shell.execute_reply.started": "2025-06-11T21:28:02.753710Z"
    }
   },
   "outputs": [
    {
     "name": "stdout",
     "output_type": "stream",
     "text": [
      "ERROR: Can't invoke 'amazon.nova-lite-v1:0'. Reason: An error occurred (AccessDeniedException) when calling the Converse operation: User: arn:aws:sts::168264144360:assumed-role/SageMaker-ExecutionRole-20250604T230532/SageMaker is not authorized to perform: bedrock:InvokeModel on resource: arn:aws:bedrock:us-east-2::foundation-model/amazon.nova-lite-v1:0 because no identity-based policy allows the bedrock:InvokeModel action\n"
     ]
    }
   ],
   "source": [
    "# Use the Conversation API to send a text message to Amazon Nova.\n",
    "\n",
    "import boto3\n",
    "from botocore.exceptions import ClientError\n",
    "\n",
    "# Create a Bedrock Runtime client in the AWS Region you want to use.\n",
    "client = boto3.client(\"bedrock-runtime\", region_name=\"us-east-2\")\n",
    "\n",
    "# Set the model ID, e.g., Amazon Nova Lite.\n",
    "model_id = \"amazon.nova-lite-v1:0\"\n",
    "\n",
    "# Start a conversation with the user message.\n",
    "user_message = \"Describe the purpose of a 'hello world' program in one line.\"\n",
    "conversation = [\n",
    "    {\n",
    "        \"role\": \"user\",\n",
    "        \"content\": [{\"text\": user_message}],\n",
    "    }\n",
    "]\n",
    "\n",
    "try:\n",
    "    # Send the message to the model, using a basic inference configuration.\n",
    "    response = client.converse(\n",
    "        modelId=model_id,\n",
    "        messages=conversation,\n",
    "        inferenceConfig={\"maxTokens\": 512, \"temperature\": 0.5, \"topP\": 0.9},\n",
    "    )\n",
    "\n",
    "    # Extract and print the response text.\n",
    "    response_text = response[\"output\"][\"message\"][\"content\"][0][\"text\"]\n",
    "    print(response_text)\n",
    "\n",
    "except (ClientError, Exception) as e:\n",
    "    print(f\"ERROR: Can't invoke '{model_id}'. Reason: {e}\")\n",
    "    exit(1)\n",
    "\n",
    "\n"
   ]
  },
  {
   "cell_type": "code",
   "execution_count": null,
   "id": "aefe89a0-b8a5-4b9f-9bcd-ab98591d638d",
   "metadata": {},
   "outputs": [],
   "source": [
    "import pandas as pd\n",
    "import numpy as np\n",
    "from sklearn.model_selection import train_test_split\n",
    "from sklearn.preprocessing import StandardScaler\n",
    "import xgboost as xgb\n",
    "from sklearn.metrics import (\n",
    "    accuracy_score, precision_score, recall_score, f1_score,\n",
    "    roc_auc_score, log_loss, confusion_matrix, ConfusionMatrixDisplay\n",
    ")\n",
    "import matplotlib.pyplot as plt\n",
    "import seaborn as sns\n",
    "import mlflow\n",
    "import mlflow.xgboost"
   ]
  },
  {
   "cell_type": "code",
   "execution_count": null,
   "id": "027c787c-e42c-4acd-bee3-62e90c052360",
   "metadata": {},
   "outputs": [],
   "source": [
    "mlflow.set_tracking_uri(\"arn:aws:sagemaker:us-east-2:168264144360:mlflow-tracking-server/mlflow-tracker\")"
   ]
  },
  {
   "cell_type": "code",
   "execution_count": null,
   "id": "0dcede05-9a87-4d13-949b-00512843427d",
   "metadata": {},
   "outputs": [],
   "source": [
    "df = pd.read_parquet('/home/sagemaker-user/data/med_xgb_data.parquet')"
   ]
  },
  {
   "cell_type": "code",
   "execution_count": null,
   "id": "d652d6a6-9a94-4fca-a5de-7c957711083b",
   "metadata": {},
   "outputs": [],
   "source": [
    "df"
   ]
  },
  {
   "cell_type": "code",
   "execution_count": null,
   "id": "cc121b3c-930f-42ad-9a2f-b787e59b4180",
   "metadata": {},
   "outputs": [],
   "source": [
    "target_col = 'target' \n",
    "X = df.drop(columns=[target_col])\n",
    "y = df[target_col]"
   ]
  },
  {
   "cell_type": "code",
   "execution_count": null,
   "id": "e476504a-4e84-4365-a458-ad215ec8a3c5",
   "metadata": {},
   "outputs": [],
   "source": [
    "X_train, X_test, y_train, y_test = train_test_split(X, y, test_size=0.3, random_state=42)"
   ]
  },
  {
   "cell_type": "code",
   "execution_count": null,
   "id": "35a30648-3516-46bc-94de-e1ba3d175b81",
   "metadata": {},
   "outputs": [],
   "source": [
    "# Train the model (no MLflow here)\n",
    "model = xgb.XGBClassifier(\n",
    "    n_estimators=50,\n",
    "    max_depth=3,\n",
    "    learning_rate=0.1,\n",
    "    subsample=0.7,\n",
    "    colsample_bytree=0.7,\n",
    "    tree_method='hist',\n",
    "    eval_metric='logloss',\n",
    "    random_state=42\n",
    ")\n",
    "model.fit(X_train, y_train)\n",
    "\n",
    "# Predictions\n",
    "y_pred = model.predict(X_test)\n",
    "y_prob = model.predict_proba(X_test)[:, 1]\n"
   ]
  },
  {
   "cell_type": "code",
   "execution_count": null,
   "id": "532994e0-0a81-49cc-acb1-078a8c5c9359",
   "metadata": {},
   "outputs": [],
   "source": [
    "mlflow.set_experiment(\"test_experiment\")\n",
    "\n",
    "with mlflow.start_run(run_name=\"param_test\"):\n",
    "    mlflow.log_param(\"n_estimators\", 50)\n",
    "    print(\"✅ Logged single parameter to MLflow\")"
   ]
  },
  {
   "cell_type": "code",
   "execution_count": null,
   "id": "d953962e-57e3-464b-8cfd-a05881893c2c",
   "metadata": {},
   "outputs": [],
   "source": [
    "mlflow.set_experiment(\"xgb_experiment\")\n",
    "\n",
    "with mlflow.start_run(run_name=\"post_training_logging\"):\n",
    "    for k, v in metrics.items():\n",
    "        mlflow.log_metric(k, v)\n",
    "        \n",
    "    # mlflow.xgboost.log_model(model, artifact_path=\"model\")\n",
    "\n",
    "    print(\"✅ Metrics and model logged post training.\")\n"
   ]
  },
  {
   "cell_type": "code",
   "execution_count": null,
   "id": "d7702a04-3210-46d3-b61b-e079e034e1fc",
   "metadata": {},
   "outputs": [],
   "source": [
    "import os\n",
    "import mlflow\n",
    "# from mlflow.tracking import MlflowClient\n",
    "# local_tracking_dir = \"s3://mlops-sandbox-bucket/mlflow_tracker/\"\n",
    "# mlflow.set_tracking_uri(f\"file://{local_tracking_dir}\")"
   ]
  },
  {
   "cell_type": "code",
   "execution_count": null,
   "id": "61c80968-0924-4507-8861-803fb7514ed9",
   "metadata": {},
   "outputs": [],
   "source": [
    "# !pip show sagemaker-mlflow mlflow"
   ]
  },
  {
   "cell_type": "code",
   "execution_count": null,
   "id": "1bb3afe4-cb19-44b4-b6ee-ed7773c47e78",
   "metadata": {},
   "outputs": [],
   "source": [
    "\n",
    "\n",
    "# # Initialize MLflow client\n",
    "# client = MlflowClient()\n",
    "\n",
    "# # List experiments and their runs\n",
    "# experiments = client.list_experiments()\n",
    "# for exp in experiments:\n",
    "#     print(f\"\\nExperiment: {exp.name}\")\n",
    "#     print(f\"  ID: {exp.experiment_id}\")\n",
    "#     print(f\"  Artifact Location: {exp.artifact_location}\")\n",
    "\n",
    "#     runs = client.search_runs([exp.experiment_id])\n",
    "#     for run in runs:\n",
    "#         print(f\"    Run ID: {run.info.run_id}\")\n",
    "#         print(f\"    Metrics: {run.data.metrics}\")\n",
    "#         print(f\"    Params: {run.data.params}\")\n"
   ]
  },
  {
   "cell_type": "code",
   "execution_count": null,
   "id": "ab47add2-e5e8-467d-a7b3-dc17babb0f3c",
   "metadata": {},
   "outputs": [],
   "source": [
    "import mlflow\n",
    "import sagemaker_mlflow\n",
    "\n",
    "mlflow.set_tracking_uri(\"arn:aws:sagemaker:<region>:<account>:mlflow-tracking-server/<name>\")\n",
    "mlflow.set_experiment(\"test-exp\")\n",
    "with mlflow.start_run():\n",
    "    mlflow.log_metric(\"accuracy\", 0.93)\n"
   ]
  },
  {
   "cell_type": "code",
   "execution_count": null,
   "id": "e2c07a19-5142-4f07-acac-632d5ec66b6b",
   "metadata": {},
   "outputs": [],
   "source": [
    "import mlflow\n",
    "import sagemaker_mlflow"
   ]
  },
  {
   "cell_type": "code",
   "execution_count": null,
   "id": "572a7a8a-1709-4bb4-bbf4-1398a7f8bf17",
   "metadata": {},
   "outputs": [],
   "source": [
    "mlflow.set_tracking_uri(\"arn:aws:sagemaker:us-east-2:168264144360:mlflow-tracking-server/mlflow-tracker\")"
   ]
  },
  {
   "cell_type": "code",
   "execution_count": null,
   "id": "2a70990f-d0fb-4df7-83f2-595d4f3dcd1d",
   "metadata": {},
   "outputs": [],
   "source": [
    "print(mlflow.tracking.get_tracking_uri())"
   ]
  },
  {
   "cell_type": "code",
   "execution_count": null,
   "id": "d144d42e-45f5-4835-914a-5c196d0890fa",
   "metadata": {},
   "outputs": [],
   "source": [
    "import logging\n",
    "logging.basicConfig(level=logging.DEBUG)"
   ]
  },
  {
   "cell_type": "code",
   "execution_count": null,
   "id": "686099c4-f632-4cd6-a691-ef1f718d211c",
   "metadata": {},
   "outputs": [],
   "source": [
    "from mlflow.tracking import _tracking_service\n",
    "print(_tracking_service.utils._tracking_store_registry._registry)\n"
   ]
  },
  {
   "cell_type": "code",
   "execution_count": null,
   "id": "c7a92817-6e5a-47d3-84fc-ee707b6668b6",
   "metadata": {},
   "outputs": [],
   "source": [
    "server_arn = 'arn:aws:sagemaker:us-east-2:168264144360:mlflow-tracking-server/mlflow-tracker'"
   ]
  },
  {
   "cell_type": "code",
   "execution_count": null,
   "id": "f4c0e4f4-7fe8-4223-8d07-c0b10547138a",
   "metadata": {},
   "outputs": [],
   "source": [
    "mlflow.set_tracking_uri(server_arn)"
   ]
  },
  {
   "cell_type": "code",
   "execution_count": null,
   "id": "73f4c9a7-3997-4b68-b774-d83c92508199",
   "metadata": {},
   "outputs": [],
   "source": [
    "with mlflow.start_run():\n",
    "    mlflow.log_metric(\"foo\", 1)\n",
    "    \n",
    "print(mlflow.search_runs())"
   ]
  },
  {
   "cell_type": "code",
   "execution_count": null,
   "id": "7c8c50bd-14da-4169-b43e-867c1e09ea88",
   "metadata": {},
   "outputs": [],
   "source": [
    "mlflow.set_experiment(\"simple_test\")\n",
    "\n",
    "# Start the run and log data\n",
    "with mlflow.start_run():\n",
    "    mlflow.log_param(\"param1\", 5)\n",
    "    mlflow.log_metric(\"accuracy\", 0.91)\n",
    "    mlflow.log_metric(\"loss\", 0.08)\n",
    "\n",
    "print(\"✅ Logged successfully to:\", run.info.artifact_uri)"
   ]
  },
  {
   "cell_type": "code",
   "execution_count": null,
   "id": "6a0233ea-3ec4-4f9d-9a4d-324ebed30689",
   "metadata": {},
   "outputs": [],
   "source": []
  }
 ],
 "metadata": {
  "kernelspec": {
   "display_name": "Python 3 (ipykernel)",
   "language": "python",
   "name": "python3"
  },
  "language_info": {
   "codemirror_mode": {
    "name": "ipython",
    "version": 3
   },
   "file_extension": ".py",
   "mimetype": "text/x-python",
   "name": "python",
   "nbconvert_exporter": "python",
   "pygments_lexer": "ipython3",
   "version": "3.12.9"
  }
 },
 "nbformat": 4,
 "nbformat_minor": 5
}
