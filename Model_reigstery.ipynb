{
 "cells": [
  {
   "cell_type": "code",
   "execution_count": null,
   "id": "31076119-7489-4253-9fca-f5344c84f350",
   "metadata": {},
   "outputs": [],
   "source": [
    "import pandas as pd\n",
    "import numpy as np\n",
    "import joblib\n",
    "import mlflow\n",
    "import mlflow.xgboost\n",
    "import xgboost as xgb"
   ]
  },
  {
   "cell_type": "code",
   "execution_count": null,
   "id": "9437fe33-1c48-4c36-87ec-eec3346018c3",
   "metadata": {},
   "outputs": [],
   "source": [
    "df = pd.read_parquet('/home/sagemaker-user/mlops-sandbox-repo/data_sample.parquet')"
   ]
  },
  {
   "cell_type": "code",
   "execution_count": null,
   "id": "b52381ea-952d-4c83-818f-45916a7d13eb",
   "metadata": {},
   "outputs": [],
   "source": [
    "target_col = 'target' \n",
    "X = df.drop(columns=[target_col])\n",
    "y = df[target_col]"
   ]
  },
  {
   "cell_type": "code",
   "execution_count": null,
   "id": "410d8091-7381-432a-a8c8-68e2e92f055d",
   "metadata": {},
   "outputs": [],
   "source": [
    "mlflow.set_tracking_uri(\"arn:aws:sagemaker:us-east-2:168264144360:mlflow-tracking-server/mlflow-tracker\")"
   ]
  },
  {
   "cell_type": "code",
   "execution_count": null,
   "id": "acb5d654-da07-418b-a64e-cd9391b52c71",
   "metadata": {},
   "outputs": [],
   "source": [
    "model = joblib.load(\"xgb_model/model.pkl\")"
   ]
  },
  {
   "cell_type": "code",
   "execution_count": null,
   "id": "faf4896c-2b43-4c66-addc-6316b00913a4",
   "metadata": {},
   "outputs": [],
   "source": [
    "from mlflow.models import infer_signature\n",
    "import mlflow.xgboost\n",
    "\n",
    "\n",
    "X_sample = X.iloc[0:1]\n",
    "y_sample = model.predict(X_sample)\n",
    "signature = infer_signature(X_sample, y_sample)\n",
    "\n",
    "\n",
    "mlflow.set_experiment(\"Model_reg_exp\")\n",
    "\n",
    "with mlflow.start_run() as run:\n",
    "    mlflow.xgboost.log_model(\n",
    "        xgb_model=model,\n",
    "        artifact_path=\"xgb-model\",\n",
    "        signature=signature\n",
    "    )\n",
    "    model_uri = f\"runs:/{run.info.run_id}/xgb-model\"\n",
    "    \n",
    "    # 🔽 This is the key step\n",
    "    mv = mlflow.register_model(\n",
    "        model_uri=model_uri,\n",
    "        name=\"MyXGBoostModel\"\n",
    "    )\n",
    "\n",
    "    print(f\"Model registered as: {mv.name}, version: {mv.version}\")\n"
   ]
  },
  {
   "cell_type": "code",
   "execution_count": null,
   "id": "89fccb20-a893-4508-b6a8-ad8140994a67",
   "metadata": {},
   "outputs": [],
   "source": [
    "import mlflow.xgboost\n",
    "\n",
    "# Load by name and version\n",
    "load_model = mlflow.xgboost.load_model(\"models:/MyXGBoostModel/1\")\n",
    "\n",
    "load_model.predict(X.iloc[1:2])\n"
   ]
  },
  {
   "cell_type": "code",
   "execution_count": 5,
   "id": "a175186d-cfd0-4ee1-afd1-e982d98925b3",
   "metadata": {
    "execution": {
     "iopub.execute_input": "2025-06-16T21:50:56.237281Z",
     "iopub.status.busy": "2025-06-16T21:50:56.236910Z",
     "iopub.status.idle": "2025-06-16T21:50:56.245152Z",
     "shell.execute_reply": "2025-06-16T21:50:56.244045Z",
     "shell.execute_reply.started": "2025-06-16T21:50:56.237258Z"
    }
   },
   "outputs": [],
   "source": [
    "from pydantic import BaseModel, model_validator\n",
    "from typing import Optional\n",
    "import mlflow\n",
    "\n",
    "class ModelConfig(BaseModel):\n",
    "    \"\"\"\n",
    "    Configuration model for loading an MLflow model from the Model Registry.\n",
    "\n",
    "    Attributes:\n",
    "        model_name (str): The registered name of the model in MLflow.\n",
    "        version (Optional[str]): The specific version of the model to load. Mutually exclusive with `stage`.\n",
    "        stage (Optional[str]): The stage of the model to load (e.g., 'Production', 'Staging'). Mutually exclusive with `version`.\n",
    "        tracking_uri (Optional[str]): Optional URI for the MLflow tracking server. Defaults to local if not provided.\n",
    "    \"\"\"\n",
    "\n",
    "    model_name: str\n",
    "    version: Optional[str] = None\n",
    "    stage: Optional[str] = None\n",
    "    tracking_uri: Optional[str] = None\n",
    "\n",
    "    @model_validator(mode=\"after\")\n",
    "    def validate_stage_or_version(self):\n",
    "        \"\"\"\n",
    "        Validates that either 'stage' or 'version' is provided (but not both).\n",
    "        Defaults to 'Production' stage if neither is specified.\n",
    "        \"\"\"\n",
    "        if self.version and self.stage:\n",
    "            raise ValueError(\"Specify only one of 'version' or 'stage', not both.\")\n",
    "        if not self.version and not self.stage:\n",
    "            self.stage = \"Production\"\n",
    "        return self\n",
    "\n",
    "\n",
    "def load_model_from_registry(config: ModelConfig):\n",
    "    \"\"\"\n",
    "    Loads a model from the MLflow Model Registry based on the provided configuration.\n",
    "\n",
    "    Args:\n",
    "        config (ModelConfig): A validated configuration object containing model name,\n",
    "                              version or stage, and optional tracking URI.\n",
    "\n",
    "    Returns:\n",
    "        mlflow.pyfunc.PyFuncModel: The loaded MLflow model, ready for inference.\n",
    "\n",
    "    Raises:\n",
    "        RuntimeError: If the model cannot be loaded from the registry.\n",
    "        ValueError: If both 'stage' and 'version' are provided in the configuration.\n",
    "\n",
    "    Example:\n",
    "        >>> config = ModelConfig(model_name=\"HeartDiseaseModel\", stage=\"Production\")\n",
    "        >>> model = load_model_from_registry(config)\n",
    "        >>> model.predict(pd.DataFrame([[1, 2, 3, 4]]))\n",
    "    \"\"\"\n",
    "    if config.tracking_uri:\n",
    "        mlflow.set_tracking_uri(config.tracking_uri)\n",
    "\n",
    "    model_uri = f\"models:/{config.model_name}/{config.stage or config.version}\"\n",
    "    print(f\"[INFO] Loading model from: {model_uri}\")\n",
    "\n",
    "    try:\n",
    "        model = mlflow.pyfunc.load_model(model_uri)\n",
    "    except Exception as e:\n",
    "        raise RuntimeError(f\"Failed to load model from {model_uri}: {e}\")\n",
    "\n",
    "    return model\n"
   ]
  },
  {
   "cell_type": "code",
   "execution_count": 11,
   "id": "fc0a65e3-b92c-41d0-b0f5-fde5e4541ee2",
   "metadata": {
    "execution": {
     "iopub.execute_input": "2025-06-16T21:58:01.992016Z",
     "iopub.status.busy": "2025-06-16T21:58:01.989705Z",
     "iopub.status.idle": "2025-06-16T21:58:08.111733Z",
     "shell.execute_reply": "2025-06-16T21:58:08.110850Z",
     "shell.execute_reply.started": "2025-06-16T21:58:01.991967Z"
    }
   },
   "outputs": [
    {
     "name": "stdout",
     "output_type": "stream",
     "text": [
      "[INFO] Loading model from: models:/MyXGBoostModel/1\n"
     ]
    },
    {
     "data": {
      "application/vnd.jupyter.widget-view+json": {
       "model_id": "3b5bfc9aa3c544b48d052f3a79bc42bc",
       "version_major": 2,
       "version_minor": 0
      },
      "text/plain": [
       "Downloading artifacts:   0%|          | 0/5 [00:00<?, ?it/s]"
      ]
     },
     "metadata": {},
     "output_type": "display_data"
    }
   ],
   "source": [
    "import yaml\n",
    "\n",
    "# Load the YAML file and access the 'mlflow' section\n",
    "with open(\"config.yaml\", \"r\") as f:\n",
    "    full_config = yaml.safe_load(f)\n",
    "\n",
    "mlflow_config = full_config.get(\"mlflow\", {})\n",
    "\n",
    "# Pass the inner config to Pydantic\n",
    "config = ModelConfig(**mlflow_config)\n",
    "\n",
    "# Load the model\n",
    "model = load_model_from_registry(config)"
   ]
  },
  {
   "cell_type": "code",
   "execution_count": 7,
   "id": "76ff39d2-5627-4f45-b259-a48485e606dd",
   "metadata": {
    "execution": {
     "iopub.execute_input": "2025-06-16T21:51:53.215870Z",
     "iopub.status.busy": "2025-06-16T21:51:53.215348Z",
     "iopub.status.idle": "2025-06-16T21:51:53.234832Z",
     "shell.execute_reply": "2025-06-16T21:51:53.233733Z",
     "shell.execute_reply.started": "2025-06-16T21:51:53.215844Z"
    }
   },
   "outputs": [
    {
     "ename": "TypeError",
     "evalue": "load_model_from_registry() got an unexpected keyword argument 'model_name'",
     "output_type": "error",
     "traceback": [
      "\u001b[0;31m---------------------------------------------------------------------------\u001b[0m",
      "\u001b[0;31mTypeError\u001b[0m                                 Traceback (most recent call last)",
      "Cell \u001b[0;32mIn[7], line 14\u001b[0m\n\u001b[1;32m     11\u001b[0m tracking_uri \u001b[38;5;241m=\u001b[39m mlflow_cfg\u001b[38;5;241m.\u001b[39mget(\u001b[38;5;124m\"\u001b[39m\u001b[38;5;124mtracking_uri\u001b[39m\u001b[38;5;124m\"\u001b[39m)\n\u001b[1;32m     13\u001b[0m \u001b[38;5;66;03m# Step 2: Load the model using the function\u001b[39;00m\n\u001b[0;32m---> 14\u001b[0m model \u001b[38;5;241m=\u001b[39m \u001b[43mload_model_from_registry\u001b[49m\u001b[43m(\u001b[49m\n\u001b[1;32m     15\u001b[0m \u001b[43m    \u001b[49m\u001b[43mmodel_name\u001b[49m\u001b[38;5;241;43m=\u001b[39;49m\u001b[43mmodel_name\u001b[49m\u001b[43m,\u001b[49m\n\u001b[1;32m     16\u001b[0m \u001b[43m    \u001b[49m\u001b[38;5;66;43;03m#stage=stage,\u001b[39;49;00m\n\u001b[1;32m     17\u001b[0m \u001b[43m    \u001b[49m\u001b[43mversion\u001b[49m\u001b[38;5;241;43m=\u001b[39;49m\u001b[43mversion\u001b[49m\u001b[43m,\u001b[49m\u001b[43m  \u001b[49m\u001b[38;5;66;43;03m# We can either use stage or version\u001b[39;49;00m\n\u001b[1;32m     18\u001b[0m \u001b[43m    \u001b[49m\u001b[43mtracking_uri\u001b[49m\u001b[38;5;241;43m=\u001b[39;49m\u001b[43mtracking_uri\u001b[49m\n\u001b[1;32m     19\u001b[0m \u001b[43m)\u001b[49m\n",
      "\u001b[0;31mTypeError\u001b[0m: load_model_from_registry() got an unexpected keyword argument 'model_name'"
     ]
    }
   ],
   "source": [
    "import yaml\n",
    "\n",
    "# ✅ Step 1: Read values from config.yaml\n",
    "with open(\"config.yaml\", \"r\") as f:\n",
    "    config = yaml.safe_load(f)\n",
    "\n",
    "mlflow_cfg = config[\"mlflow\"]\n",
    "model_name = mlflow_cfg[\"model_name\"]\n",
    "stage = mlflow_cfg.get(\"stage\")\n",
    "version = mlflow_cfg.get(\"version\")\n",
    "tracking_uri = mlflow_cfg.get(\"tracking_uri\")\n",
    "\n",
    "# Step 2: Load the model using the function\n",
    "model = load_model_from_registry(\n",
    "    model_name=model_name,\n",
    "    #stage=stage,\n",
    "    version=version,  # We can either use stage or version\n",
    "    tracking_uri=tracking_uri\n",
    ")"
   ]
  },
  {
   "cell_type": "code",
   "execution_count": null,
   "id": "a11cdbbd-9733-4ff1-bade-c50fac29e35f",
   "metadata": {},
   "outputs": [],
   "source": [
    "loaded_model = load_model_from_registry(\"MyXGBoostModel\", \"1\", tracking_uri=\"arn:aws:sagemaker:us-east-2:168264144360:mlflow-tracking-server/mlflow-tracker\")"
   ]
  },
  {
   "cell_type": "code",
   "execution_count": 4,
   "id": "637292bc-38d4-446c-afd0-c871eb539f64",
   "metadata": {
    "execution": {
     "iopub.execute_input": "2025-06-16T20:39:17.732933Z",
     "iopub.status.busy": "2025-06-16T20:39:17.732571Z",
     "iopub.status.idle": "2025-06-16T20:39:17.855389Z",
     "shell.execute_reply": "2025-06-16T20:39:17.852957Z",
     "shell.execute_reply.started": "2025-06-16T20:39:17.732909Z"
    }
   },
   "outputs": [
    {
     "ename": "NameError",
     "evalue": "name 'X' is not defined",
     "output_type": "error",
     "traceback": [
      "\u001b[0;31m---------------------------------------------------------------------------\u001b[0m",
      "\u001b[0;31mNameError\u001b[0m                                 Traceback (most recent call last)",
      "Cell \u001b[0;32mIn[4], line 1\u001b[0m\n\u001b[0;32m----> 1\u001b[0m model\u001b[38;5;241m.\u001b[39mpredict(\u001b[43mX\u001b[49m\u001b[38;5;241m.\u001b[39miloc[\u001b[38;5;241m1\u001b[39m:\u001b[38;5;241m2\u001b[39m])\n",
      "\u001b[0;31mNameError\u001b[0m: name 'X' is not defined"
     ]
    }
   ],
   "source": [
    "model.predict(X.iloc[1:2])"
   ]
  },
  {
   "cell_type": "code",
   "execution_count": null,
   "id": "63d07461-ffd6-4a72-9fb0-794d9ef8b126",
   "metadata": {},
   "outputs": [],
   "source": []
  }
 ],
 "metadata": {
  "kernelspec": {
   "display_name": "Python 3 (ipykernel)",
   "language": "python",
   "name": "python3"
  },
  "language_info": {
   "codemirror_mode": {
    "name": "ipython",
    "version": 3
   },
   "file_extension": ".py",
   "mimetype": "text/x-python",
   "name": "python",
   "nbconvert_exporter": "python",
   "pygments_lexer": "ipython3",
   "version": "3.12.9"
  }
 },
 "nbformat": 4,
 "nbformat_minor": 5
}
